{
 "cells": [
  {
   "cell_type": "markdown",
   "metadata": {},
   "source": [
    "# **Unit 5: Fuzzy Logic and Fuzzy Inference Systems**\n",
    "\n",
    "## **1. Introduction to Fuzzy Logic**\n",
    "\n",
    "Fuzzy logic is a form of many-valued logic that deals with reasoning that is approximate rather than fixed and exact. Unlike classical binary logic (true/false), fuzzy logic allows for intermediate values (partially true/false).\n",
    "\n",
    "### **Key Concepts of Fuzzy Logic:**\n",
    "\n",
    "1. **Fuzzy Sets:** A set where an element's membership is expressed in degrees (0 to 1).\n",
    "2. **Membership Functions:** Define the degree to which an element belongs to a fuzzy set.\n",
    "3. **Fuzzy Rules:** If-Then rules used in decision-making.\n",
    "4. **Fuzzy Inference System (FIS):** Processes input data using fuzzy rules to generate an output.\n",
    "\n",
    "---\n",
    "\n",
    "## **2. Formation of Fuzzy Rules**\n",
    "\n",
    "Fuzzy rules are conditional statements used to describe relationships between input and output variables.\n",
    "\n",
    "### **Example Rule:**\n",
    "\n",
    "- IF temperature is high THEN fan speed is fast.\n",
    "- IF temperature is moderate THEN fan speed is medium.\n",
    "- IF temperature is low THEN fan speed is slow.\n",
    "\n",
    "---"
   ]
  },
  {
   "cell_type": "markdown",
   "metadata": {},
   "source": [
    "## **3. Hands-on: Implementing a Fuzzy System in Python**\n",
    "\n",
    "### **Defining Fuzzy Sets and Rules**"
   ]
  },
  {
   "cell_type": "code",
   "execution_count": 2,
   "metadata": {},
   "outputs": [
    {
     "name": "stdout",
     "output_type": "stream",
     "text": [
      "Defaulting to user installation because normal site-packages is not writeable\n",
      "Requirement already satisfied: numpy in c:\\python312\\lib\\site-packages (2.0.2)\n",
      "Note: you may need to restart the kernel to use updated packages.\n"
     ]
    },
    {
     "name": "stderr",
     "output_type": "stream",
     "text": [
      "DEPRECATION: Loading egg at c:\\python312\\lib\\site-packages\\vboxapi-1.0-py3.12.egg is deprecated. pip 25.1 will enforce this behaviour change. A possible replacement is to use pip for package installation. Discussion can be found at https://github.com/pypa/pip/issues/12330\n"
     ]
    },
    {
     "name": "stdout",
     "output_type": "stream",
     "text": [
      "Defaulting to user installation because normal site-packages is not writeableNote: you may need to restart the kernel to use updated packages.\n",
      "\n",
      "Requirement already satisfied: scikit-fuzzy in c:\\users\\harsh\\appdata\\roaming\\python\\python312\\site-packages (0.5.0)\n"
     ]
    },
    {
     "name": "stderr",
     "output_type": "stream",
     "text": [
      "DEPRECATION: Loading egg at c:\\python312\\lib\\site-packages\\vboxapi-1.0-py3.12.egg is deprecated. pip 25.1 will enforce this behaviour change. A possible replacement is to use pip for package installation. Discussion can be found at https://github.com/pypa/pip/issues/12330\n"
     ]
    }
   ],
   "source": [
    "# download numpy skfuzzy\n",
    "%pip install numpy\n",
    "%pip install scikit-fuzzy"
   ]
  },
  {
   "cell_type": "code",
   "execution_count": 1,
   "metadata": {},
   "outputs": [
    {
     "name": "stdout",
     "output_type": "stream",
     "text": [
      "For temperature 25°C, the fan speed is 61.85%\n"
     ]
    }
   ],
   "source": [
    "import numpy as np\n",
    "import skfuzzy as fuzz\n",
    "import skfuzzy.control as ctrl\n",
    "\n",
    "# Define fuzzy variables\n",
    "temperature = ctrl.Antecedent(np.arange(0, 41, 1), 'temperature')\n",
    "speed = ctrl.Consequent(np.arange(0, 101, 1), 'speed')\n",
    "\n",
    "# Define membership functions\n",
    "temperature['low'] = fuzz.trimf(temperature.universe, [0, 0, 20])\n",
    "temperature['moderate'] = fuzz.trimf(temperature.universe, [10, 20, 30])\n",
    "temperature['high'] = fuzz.trimf(temperature.universe, [20, 40, 40])\n",
    "\n",
    "speed['slow'] = fuzz.trimf(speed.universe, [0, 0, 50])\n",
    "speed['medium'] = fuzz.trimf(speed.universe, [30, 50, 70])\n",
    "speed['fast'] = fuzz.trimf(speed.universe, [50, 100, 100])\n",
    "\n",
    "# Define fuzzy rules\n",
    "rule1 = ctrl.Rule(temperature['low'], speed['slow'])\n",
    "rule2 = ctrl.Rule(temperature['moderate'], speed['medium'])\n",
    "rule3 = ctrl.Rule(temperature['high'], speed['fast'])\n",
    "\n",
    "# Control system\n",
    "speed_ctrl = ctrl.ControlSystem([rule1, rule2, rule3])\n",
    "speed_sim = ctrl.ControlSystemSimulation(speed_ctrl)\n",
    "\n",
    "# Test input\n",
    "test_temp = 25\n",
    "speed_sim.input['temperature'] = test_temp\n",
    "speed_sim.compute()\n",
    "\n",
    "print(f\"For temperature {test_temp}°C, the fan speed is {speed_sim.output['speed']:.2f}%\")"
   ]
  },
  {
   "cell_type": "markdown",
   "metadata": {},
   "source": [
    "**Explanation:**\n",
    "\n",
    "- Defines fuzzy sets for temperature and speed.\n",
    "- Implements fuzzy rules to determine fan speed.\n",
    "- Uses a fuzzy inference system to compute the output based on the input temperature.\n",
    "\n",
    "---"
   ]
  },
  {
   "cell_type": "markdown",
   "metadata": {},
   "source": [
    "## **4. Fuzzy Reasoning and Inference Systems**\n",
    "\n",
    "A **Fuzzy Inference System (FIS)** processes input variables through fuzzy rules to produce an output.\n",
    "\n",
    "### **Types of FIS:**\n",
    "\n",
    "1. **Mamdani FIS:** Uses fuzzy sets for both input and output.\n",
    "2. **Sugeno FIS:** Uses crisp values as outputs.\n",
    "\n",
    "---\n",
    "\n",
    "## **5. Fuzzy Decision Making**\n",
    "\n",
    "Fuzzy logic is widely used in decision-making applications where uncertainty exists.\n",
    "\n",
    "### **Examples of Fuzzy Decision Making:**\n",
    "\n",
    "- Automatic climate control systems.\n",
    "- Stock market prediction models.\n",
    "- Medical diagnosis systems.\n",
    "\n",
    "---\n",
    "\n",
    "## **6. Applications of Fuzzy Logic**\n",
    "\n",
    "- **Consumer Electronics:** Washing machines, air conditioners.\n",
    "- **Automotive Systems:** ABS braking, cruise control.\n",
    "- **Medical Diagnosis:** Patient risk assessment.\n",
    "- **Industrial Automation:** Control of robotic arms.\n",
    "\n",
    "---\n",
    "\n",
    "## **7. Discussion Questions**\n",
    "\n",
    "1. How does fuzzy logic differ from traditional Boolean logic?\n",
    "2. What are the advantages of fuzzy inference systems in real-world applications?\n",
    "3. Why is fuzzy logic useful in situations with uncertainty and imprecision?\n"
   ]
  },
  {
   "cell_type": "markdown",
   "metadata": {},
   "source": [
    "## Author\n",
    "\n",
    "**Harshit Soni**  \n",
    "GitHub: [Harshit-Soni78](https://github.com/Harshit-Soni78)\n",
    "\n",
    "---\n",
    "Made with ❤️ by Harshit Soni"
   ]
  }
 ],
 "metadata": {
  "kernelspec": {
   "display_name": "Python 3",
   "language": "python",
   "name": "python3"
  },
  "language_info": {
   "codemirror_mode": {
    "name": "ipython",
    "version": 3
   },
   "file_extension": ".py",
   "mimetype": "text/x-python",
   "name": "python",
   "nbconvert_exporter": "python",
   "pygments_lexer": "ipython3",
   "version": "3.12.6"
  }
 },
 "nbformat": 4,
 "nbformat_minor": 2
}
