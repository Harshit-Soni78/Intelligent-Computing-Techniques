{
 "cells": [
  {
   "cell_type": "markdown",
   "metadata": {},
   "source": [
    "# **Unit 2: Artificial Intelligence Search Techniques**\n",
    "\n",
    "---\n",
    "\n",
    "**Run this Notebook in Google Colab:** <a href=\"https://colab.research.google.com/github/Harshit-Soni78/Intelligent-Computing-Techniques/blob/main/Unit%202%20(Artificial%20Intelligence%20Search%20Techniques)/Artificial%20Intelligence%20Search%20Techniques(Hands-on).ipynb\" target=\"_blank\">Click Here 🔗</a>\n",
    "\n",
    "**Before you Start**\n",
    "- Click on **File**\n",
    "- First **Save a copy in Drive**\n",
    "- Click on **Connect**\n",
    "- Then start **Hands-on**\n",
    "\n",
    "---\n",
    "\n",
    "## **1. Introduction to AI Search Techniques**\n",
    "### **What is Search in AI?**\n",
    "Search is a fundamental problem-solving technique in Artificial Intelligence. It involves exploring possible solutions to reach a goal state from an initial state efficiently.\n",
    "\n",
    "### **Types of Search Techniques:**\n",
    "1. **Uninformed Search (Blind Search):** No additional information is available beyond the problem definition.\n",
    "   - Breadth-First Search (BFS)\n",
    "   - Depth-First Search (DFS)\n",
    "   - Uniform Cost Search\n",
    "2. **Informed Search (Heuristic Search):** Uses problem-specific knowledge to improve efficiency.\n",
    "   - Best-First Search\n",
    "   - A* Algorithm\n",
    "   - AO* Algorithm\n",
    "3. **Local Search Algorithms:** Used for optimization problems.\n",
    "   - Hill Climbing\n",
    "   - Simulated Annealing\n",
    "\n",
    "---"
   ]
  },
  {
   "cell_type": "markdown",
   "metadata": {},
   "source": [
    "## **2. Hands-on: Implementing Search Algorithms in Python**\n",
    "\n",
    "### **Breadth-First Search (BFS)**"
   ]
  },
  {
   "cell_type": "code",
   "execution_count": 1,
   "metadata": {},
   "outputs": [
    {
     "name": "stdout",
     "output_type": "stream",
     "text": [
      "BFS Traversal:\n",
      "A B C D E F "
     ]
    }
   ],
   "source": [
    "from collections import deque\n",
    "\n",
    "def bfs(graph, start):\n",
    "    visited = set()\n",
    "    queue = deque([start])\n",
    "    while queue:\n",
    "        node = queue.popleft()\n",
    "        if node not in visited:\n",
    "            print(node, end=\" \")\n",
    "            visited.add(node)\n",
    "            queue.extend(graph[node])\n",
    "\n",
    "# Graph representation\n",
    "graph = {\n",
    "    'A': ['B', 'C'],\n",
    "    'B': ['D', 'E'],\n",
    "    'C': ['F'],\n",
    "    'D': [],\n",
    "    'E': ['F'],\n",
    "    'F': []\n",
    "}\n",
    "\n",
    "print(\"BFS Traversal:\")\n",
    "bfs(graph, 'A')"
   ]
  },
  {
   "cell_type": "markdown",
   "metadata": {},
   "source": [
    "\n",
    "**Explanation:** BFS explores nodes level by level, ensuring the shortest path in an unweighted graph.\n",
    "\n",
    "---"
   ]
  },
  {
   "cell_type": "markdown",
   "metadata": {},
   "source": [
    "### **Depth-First Search (DFS)**"
   ]
  },
  {
   "cell_type": "code",
   "execution_count": 2,
   "metadata": {},
   "outputs": [
    {
     "name": "stdout",
     "output_type": "stream",
     "text": [
      "\n",
      "DFS Traversal:\n",
      "A B D E F C "
     ]
    }
   ],
   "source": [
    "def dfs(graph, node, visited=None):\n",
    "    if visited is None:\n",
    "        visited = set()\n",
    "    if node not in visited:\n",
    "        print(node, end=\" \")\n",
    "        visited.add(node)\n",
    "        for neighbor in graph[node]:\n",
    "            dfs(graph, neighbor, visited)\n",
    "\n",
    "print(\"\\nDFS Traversal:\")\n",
    "dfs(graph, 'A')"
   ]
  },
  {
   "cell_type": "markdown",
   "metadata": {},
   "source": [
    "**Explanation:** DFS explores as far as possible along a branch before backtracking.\n",
    "\n",
    "---"
   ]
  },
  {
   "cell_type": "markdown",
   "metadata": {},
   "source": [
    "### **Hill Climbing Algorithm (Local Search)**"
   ]
  },
  {
   "cell_type": "code",
   "execution_count": 3,
   "metadata": {},
   "outputs": [
    {
     "name": "stdout",
     "output_type": "stream",
     "text": [
      "Best Solution Found: 98\n"
     ]
    }
   ],
   "source": [
    "import random\n",
    "\n",
    "def hill_climb(problem, max_iterations=100):\n",
    "    current = problem()\n",
    "    for _ in range(max_iterations):\n",
    "        neighbor = problem()\n",
    "        if neighbor > current:\n",
    "            current = neighbor\n",
    "    return current\n",
    "\n",
    "# Example: Finding maximum of a random function\n",
    "def sample_problem():\n",
    "    return random.randint(1, 100)\n",
    "\n",
    "print(\"Best Solution Found:\", hill_climb(sample_problem))"
   ]
  },
  {
   "cell_type": "markdown",
   "metadata": {},
   "source": [
    "**Explanation:** Hill climbing is an optimization technique that moves towards the highest-value neighboring state.\n",
    "\n",
    "---"
   ]
  },
  {
   "cell_type": "markdown",
   "metadata": {},
   "source": [
    "### **A* Algorithm for Pathfinding**"
   ]
  },
  {
   "cell_type": "code",
   "execution_count": 4,
   "metadata": {},
   "outputs": [
    {
     "name": "stdout",
     "output_type": "stream",
     "text": [
      "A* Path from A to F: ['C', 'F']\n"
     ]
    }
   ],
   "source": [
    "import heapq\n",
    "\n",
    "def a_star(graph, start, goal, heuristic):\n",
    "    open_list = []\n",
    "    heapq.heappush(open_list, (0, start))\n",
    "    came_from = {}\n",
    "    g_score = {node: float('inf') for node in graph}\n",
    "    g_score[start] = 0\n",
    "    f_score = {node: float('inf') for node in graph}\n",
    "    f_score[start] = heuristic[start]\n",
    "    \n",
    "    while open_list:\n",
    "        _, current = heapq.heappop(open_list)\n",
    "        if current == goal:\n",
    "            path = []\n",
    "            while current in came_from:\n",
    "                path.append(current)\n",
    "                current = came_from[current]\n",
    "            return path[::-1]\n",
    "        \n",
    "        for neighbor, cost in graph[current].items():\n",
    "            tentative_g_score = g_score[current] + cost\n",
    "            if tentative_g_score < g_score[neighbor]:\n",
    "                came_from[neighbor] = current\n",
    "                g_score[neighbor] = tentative_g_score\n",
    "                f_score[neighbor] = g_score[neighbor] + heuristic[neighbor]\n",
    "                heapq.heappush(open_list, (f_score[neighbor], neighbor))\n",
    "    return None\n",
    "\n",
    "# Example Graph\n",
    "graph = {\n",
    "    'A': {'B': 1, 'C': 4},\n",
    "    'B': {'A': 1, 'D': 2, 'E': 5},\n",
    "    'C': {'A': 4, 'F': 3},\n",
    "    'D': {'B': 2},\n",
    "    'E': {'B': 5, 'F': 1},\n",
    "    'F': {'C': 3, 'E': 1}\n",
    "}\n",
    "\n",
    "heuristic = {'A': 7, 'B': 6, 'C': 2, 'D': 3, 'E': 1, 'F': 0}\n",
    "\n",
    "print(\"A* Path from A to F:\", a_star(graph, 'A', 'F', heuristic))"
   ]
  },
  {
   "cell_type": "markdown",
   "metadata": {},
   "source": [
    "**Explanation:** A* uses heuristics to find the shortest path efficiently.\n",
    "\n",
    "---"
   ]
  },
  {
   "cell_type": "markdown",
   "metadata": {},
   "source": [
    "## **3. Discussion Questions**\n",
    "1. How does informed search improve upon uninformed search?\n",
    "2. Why does Hill Climbing sometimes get stuck in local optima?\n",
    "3. What real-world applications use A* and heuristic-based search?"
   ]
  },
  {
   "cell_type": "markdown",
   "metadata": {},
   "source": [
    "## Author\n",
    "\n",
    "**Harshit Soni**  \n",
    "GitHub: [Harshit-Soni78](https://github.com/Harshit-Soni78)\n",
    "\n",
    "---\n",
    "Made with ❤️ by Harshit Soni"
   ]
  }
 ],
 "metadata": {
  "kernelspec": {
   "display_name": "Python 3",
   "language": "python",
   "name": "python3"
  },
  "language_info": {
   "codemirror_mode": {
    "name": "ipython",
    "version": 3
   },
   "file_extension": ".py",
   "mimetype": "text/x-python",
   "name": "python",
   "nbconvert_exporter": "python",
   "pygments_lexer": "ipython3",
   "version": "3.12.6"
  }
 },
 "nbformat": 4,
 "nbformat_minor": 2
}
