{
 "cells": [
  {
   "cell_type": "markdown",
   "metadata": {},
   "source": [
    "# **Unit 3: Knowledge Representation & Reasoning**\n",
    "\n",
    "---\n",
    "\n",
    "**Run this Notebook in Google Colab:** <a href=\"https://colab.research.google.com/github/Harshit-Soni78/Intelligent-Computing-Techniques/blob/main/Unit%203%20(Knowledge%20Representation%20%26%20Reasoning)/Knowledge%20Representation%20%26%20Reasoning(Hands-on).ipynb\" target=\"_blank\">Click Here 🔗</a>\n",
    "\n",
    "**Before you Start**\n",
    "- Click on **File**\n",
    "- First **Save a copy in Drive**\n",
    "- Click on **Connect**\n",
    "- Then start **Hands-on**\n",
    "\n",
    "---\n",
    "\n",
    "## **1. Introduction to Knowledge Representation (KR)**\n",
    "\n",
    "Knowledge Representation (KR) is a key aspect of AI that involves storing and organizing knowledge to enable reasoning and decision-making.\n",
    "\n",
    "### **Types of Knowledge Representation:**\n",
    "\n",
    "1. **Propositional Logic** - Uses statements that are either true or false.\n",
    "2. **Predicate Logic** - Uses predicates and quantifiers for more complex relationships.\n",
    "3. **Semantic Networks** - Graph-based representation of knowledge.\n",
    "4. **Frames and Scripts** - Structured way of storing concepts and their relationships.\n",
    "5. **Ontologies** - Formal representation of knowledge in a domain.\n",
    "\n",
    "---"
   ]
  },
  {
   "cell_type": "markdown",
   "metadata": {},
   "source": [
    "## **2. Hands-on: Implementing Propositional & Predicate Logic**\n",
    "\n",
    "### **Propositional Logic using Python**"
   ]
  },
  {
   "cell_type": "code",
   "execution_count": 1,
   "metadata": {},
   "outputs": [
    {
     "name": "stdout",
     "output_type": "stream",
     "text": [
      "Defaulting to user installation because normal site-packages is not writeable\n",
      "Requirement already satisfied: sympy in c:\\users\\harsh\\appdata\\roaming\\python\\python312\\site-packages (1.13.1)\n",
      "Requirement already satisfied: mpmath<1.4,>=1.1.0 in c:\\users\\harsh\\appdata\\roaming\\python\\python312\\site-packages (from sympy) (1.3.0)\n",
      "Note: you may need to restart the kernel to use updated packages.\n"
     ]
    },
    {
     "name": "stderr",
     "output_type": "stream",
     "text": [
      "DEPRECATION: Loading egg at c:\\python312\\lib\\site-packages\\vboxapi-1.0-py3.12.egg is deprecated. pip 25.1 will enforce this behaviour change. A possible replacement is to use pip for package installation. Discussion can be found at https://github.com/pypa/pip/issues/12330\n"
     ]
    }
   ],
   "source": [
    "# install sympy\n",
    "%pip install sympy"
   ]
  },
  {
   "cell_type": "code",
   "execution_count": 2,
   "metadata": {},
   "outputs": [
    {
     "name": "stdout",
     "output_type": "stream",
     "text": [
      "Statement 1 (Implication): Implies(P, Q)\n",
      "Statement 2 (Contradiction Example): P & ~Q\n"
     ]
    }
   ],
   "source": [
    "from sympy import symbols, And, Or, Not, Implies\n",
    "\n",
    "# Define propositions\n",
    "P = symbols('P')  # Example: \"It is raining\"\n",
    "Q = symbols('Q')  # Example: \"I will carry an umbrella\"\n",
    "\n",
    "# Logical Statements\n",
    "statement1 = Implies(P, Q)  # If it is raining, then I will carry an umbrella\n",
    "statement2 = And(P, Not(Q)) # It is raining, but I am not carrying an umbrella\n",
    "\n",
    "print(\"Statement 1 (Implication):\", statement1)\n",
    "print(\"Statement 2 (Contradiction Example):\", statement2)"
   ]
  },
  {
   "cell_type": "markdown",
   "metadata": {},
   "source": [
    "**Explanation:** This demonstrates how to represent propositional logic using Python.\n",
    "\n",
    "---"
   ]
  },
  {
   "cell_type": "markdown",
   "metadata": {},
   "source": [
    "\n",
    "### **Predicate Logic in Python using Prolog-style Representation**"
   ]
  },
  {
   "cell_type": "code",
   "execution_count": 3,
   "metadata": {},
   "outputs": [
    {
     "name": "stdout",
     "output_type": "stream",
     "text": [
      "Bob's parent is: Alice\n",
      "Alice's child is: ['Bob']\n"
     ]
    }
   ],
   "source": [
    "# Define parent-child relationships as a dictionary\n",
    "relationships = {\n",
    "    'John': 'Alice',\n",
    "    'Alice': 'Bob',\n",
    "    'Bob': 'Charlie'\n",
    "}\n",
    "\n",
    "# Function to find a parent\n",
    "def find_parent(child):\n",
    "    for parent, offspring in relationships.items():\n",
    "        if offspring == child:\n",
    "            return parent\n",
    "    return None\n",
    "\n",
    "# Function to find a child\n",
    "def find_child(parent):\n",
    "    return [offspring for p, offspring in relationships.items() if p == parent]\n",
    "\n",
    "# Who is Bob's parent?\n",
    "print(\"Bob's parent is:\", find_parent('Bob'))\n",
    "\n",
    "# Who is Alice's child?\n",
    "print(\"Alice's child is:\", find_child('Alice'))\n"
   ]
  },
  {
   "cell_type": "markdown",
   "metadata": {},
   "source": [
    "**Explanation:** This uses logic programming to find relationships between entities.\n",
    "\n",
    "---"
   ]
  },
  {
   "cell_type": "markdown",
   "metadata": {},
   "source": [
    "## **3. Forward & Backward Reasoning**\n",
    "\n",
    "### **Forward Chaining (Data-driven Reasoning)**\n",
    "\n",
    "- Starts with known facts and applies rules to infer new facts until the goal is reached.\n",
    "- Example: If we know \"Socrates is a man\" and \"All men are mortal,\" we can infer \"Socrates is mortal.\""
   ]
  },
  {
   "cell_type": "code",
   "execution_count": 4,
   "metadata": {},
   "outputs": [
    {
     "name": "stdout",
     "output_type": "stream",
     "text": [
      "Socrates is mortal\n"
     ]
    }
   ],
   "source": [
    "knowledge_base = {\n",
    "    \"Socrates is a man\": True,\n",
    "    \"All men are mortal\": True,\n",
    "}\n",
    "\n",
    "def forward_chaining(kb):\n",
    "    if kb[\"Socrates is a man\"] and kb[\"All men are mortal\"]:\n",
    "        return \"Socrates is mortal\"\n",
    "    return \"Cannot conclude\"\n",
    "\n",
    "print(forward_chaining(knowledge_base))"
   ]
  },
  {
   "cell_type": "markdown",
   "metadata": {},
   "source": [
    "**Explanation:** Checks facts iteratively to infer new knowledge.\n",
    "\n",
    "---"
   ]
  },
  {
   "cell_type": "markdown",
   "metadata": {},
   "source": [
    "### **Backward Chaining (Goal-driven Reasoning)**\n",
    "\n",
    "- Starts with the goal and works backward to see if known facts support it.\n",
    "- Example: If we want to prove \"Socrates is mortal,\" we check if there is evidence for it."
   ]
  },
  {
   "cell_type": "code",
   "execution_count": 5,
   "metadata": {},
   "outputs": [
    {
     "name": "stdout",
     "output_type": "stream",
     "text": [
      "Is Socrates mortal? True\n"
     ]
    }
   ],
   "source": [
    "def backward_chaining(goal, kb):\n",
    "    if goal == \"Socrates is mortal\":\n",
    "        return kb.get(\"Socrates is a man\", False) and kb.get(\"All men are mortal\", False)\n",
    "    return False\n",
    "\n",
    "print(\"Is Socrates mortal?\", backward_chaining(\"Socrates is mortal\", knowledge_base))"
   ]
  },
  {
   "cell_type": "markdown",
   "metadata": {},
   "source": [
    "**Explanation:** The system works backward from the goal to verify its validity.\n",
    "\n",
    "---"
   ]
  },
  {
   "cell_type": "markdown",
   "metadata": {},
   "source": [
    "## **4. Slot & Filler Structures**\n",
    "\n",
    "Slot and filler structures help represent knowledge using predefined templates.\n",
    "\n",
    "### **Example: Representing a Car Using Slots**"
   ]
  },
  {
   "cell_type": "code",
   "execution_count": 6,
   "metadata": {},
   "outputs": [
    {
     "name": "stdout",
     "output_type": "stream",
     "text": [
      "Car Information: {'Make': 'Toyota', 'Model': 'Camry', 'Year': 2022, 'Features': ['Airbags', 'Sunroof', 'GPS']}\n"
     ]
    }
   ],
   "source": [
    "car = {\n",
    "    \"Make\": \"Toyota\",\n",
    "    \"Model\": \"Camry\",\n",
    "    \"Year\": 2022,\n",
    "    \"Features\": [\"Airbags\", \"Sunroof\", \"GPS\"]\n",
    "}\n",
    "print(\"Car Information:\", car)"
   ]
  },
  {
   "cell_type": "markdown",
   "metadata": {},
   "source": [
    "**Explanation:** This structure allows easy retrieval and updating of information.\n",
    "\n",
    "---"
   ]
  },
  {
   "cell_type": "markdown",
   "metadata": {},
   "source": [
    "## **5. Natural Language Processing (NLP) Basics**\n",
    "\n",
    "NLP involves processing human language for AI applications such as chatbots and sentiment analysis.\n",
    "\n",
    "### **Tokenization, Stopwords, and Stemming in NLP**"
   ]
  },
  {
   "cell_type": "code",
   "execution_count": 7,
   "metadata": {},
   "outputs": [
    {
     "name": "stdout",
     "output_type": "stream",
     "text": [
      "Defaulting to user installation because normal site-packages is not writeable\n",
      "Requirement already satisfied: nltk in c:\\users\\harsh\\appdata\\roaming\\python\\python312\\site-packages (3.9.1)\n",
      "Requirement already satisfied: click in c:\\users\\harsh\\appdata\\roaming\\python\\python312\\site-packages (from nltk) (8.1.7)\n",
      "Requirement already satisfied: joblib in c:\\python312\\lib\\site-packages (from nltk) (1.4.2)\n",
      "Requirement already satisfied: regex>=2021.8.3 in c:\\users\\harsh\\appdata\\roaming\\python\\python312\\site-packages (from nltk) (2024.11.6)\n",
      "Requirement already satisfied: tqdm in c:\\users\\harsh\\appdata\\roaming\\python\\python312\\site-packages (from nltk) (4.67.1)\n",
      "Requirement already satisfied: colorama in c:\\python312\\lib\\site-packages (from click->nltk) (0.4.6)\n",
      "Note: you may need to restart the kernel to use updated packages.\n"
     ]
    },
    {
     "name": "stderr",
     "output_type": "stream",
     "text": [
      "DEPRECATION: Loading egg at c:\\python312\\lib\\site-packages\\vboxapi-1.0-py3.12.egg is deprecated. pip 25.1 will enforce this behaviour change. A possible replacement is to use pip for package installation. Discussion can be found at https://github.com/pypa/pip/issues/12330\n"
     ]
    }
   ],
   "source": [
    "# install nltk\n",
    "%pip install nltk"
   ]
  },
  {
   "cell_type": "code",
   "execution_count": 8,
   "metadata": {},
   "outputs": [],
   "source": [
    "import nltk\n",
    "from nltk.tokenize import word_tokenize\n",
    "from nltk.corpus import stopwords\n",
    "from nltk.stem import PorterStemmer"
   ]
  },
  {
   "cell_type": "code",
   "execution_count": 9,
   "metadata": {},
   "outputs": [
    {
     "name": "stderr",
     "output_type": "stream",
     "text": [
      "[nltk_data] Downloading package punkt to\n",
      "[nltk_data]     C:\\Users\\harsh\\AppData\\Roaming\\nltk_data...\n",
      "[nltk_data]   Package punkt is already up-to-date!\n",
      "[nltk_data] Downloading package stopwords to\n",
      "[nltk_data]     C:\\Users\\harsh\\AppData\\Roaming\\nltk_data...\n",
      "[nltk_data]   Package stopwords is already up-to-date!\n"
     ]
    },
    {
     "data": {
      "text/plain": [
       "True"
      ]
     },
     "execution_count": 9,
     "metadata": {},
     "output_type": "execute_result"
    }
   ],
   "source": [
    "# download the punkt and stopwords\n",
    "\n",
    "# this is for the tokenizer in English language\n",
    "nltk.download('punkt')\n",
    "# nltk.download('punkt_tab')  # if you get lookup error, run this line\n",
    "\n",
    "# this is for the stopwords in English language\n",
    "nltk.download('stopwords')"
   ]
  },
  {
   "cell_type": "code",
   "execution_count": 10,
   "metadata": {},
   "outputs": [
    {
     "name": "stdout",
     "output_type": "stream",
     "text": [
      "Original Tokens: ['AI', 'is', 'transforming', 'the', 'world', 'through', 'automation', 'and', 'data', 'analysis', '.']\n",
      "Processed Tokens: ['ai', 'transform', 'world', 'autom', 'data', 'analysi', '.']\n"
     ]
    }
   ],
   "source": [
    "text = \"AI is transforming the world through automation and data analysis.\"\n",
    "tokens = word_tokenize(text)\n",
    "stemmer = PorterStemmer()\n",
    "filtered_words = [stemmer.stem(word) for word in tokens if word.lower() not in stopwords.words('english')]\n",
    "\n",
    "print(\"Original Tokens:\", tokens)\n",
    "print(\"Processed Tokens:\", filtered_words)"
   ]
  },
  {
   "cell_type": "markdown",
   "metadata": {},
   "source": [
    "**Explanation:** Demonstrates how to preprocess text data for AI models.\n",
    "\n",
    "---"
   ]
  },
  {
   "cell_type": "markdown",
   "metadata": {},
   "source": [
    "## **6. Discussion Questions**\n",
    "\n",
    "1. How do forward and backward chaining differ in real-world applications?\n",
    "2. Why is predicate logic more powerful than propositional logic?\n",
    "3. How does knowledge representation impact AI-driven decision-making?"
   ]
  },
  {
   "cell_type": "markdown",
   "metadata": {},
   "source": [
    "## Author\n",
    "\n",
    "**Harshit Soni**  \n",
    "GitHub: [Harshit-Soni78](https://github.com/Harshit-Soni78)\n",
    "\n",
    "---\n",
    "Made with ❤️ by Harshit Soni"
   ]
  }
 ],
 "metadata": {
  "kernelspec": {
   "display_name": "Python 3",
   "language": "python",
   "name": "python3"
  },
  "language_info": {
   "codemirror_mode": {
    "name": "ipython",
    "version": 3
   },
   "file_extension": ".py",
   "mimetype": "text/x-python",
   "name": "python",
   "nbconvert_exporter": "python",
   "pygments_lexer": "ipython3",
   "version": "3.12.6"
  }
 },
 "nbformat": 4,
 "nbformat_minor": 2
}
