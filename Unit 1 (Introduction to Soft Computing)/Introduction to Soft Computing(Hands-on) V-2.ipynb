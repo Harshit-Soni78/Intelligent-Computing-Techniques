{
 "cells": [
  {
   "cell_type": "markdown",
   "metadata": {},
   "source": [
    "# **Unit 1: Introduction to Soft Computing**\n",
    "\n",
    "---\n",
    "\n",
    "**Run this Notebook in Google Colab:** <a href=\"https://colab.research.google.com/github/Harshit-Soni78/Intelligent-Computing-Techniques/blob/main/Unit%201%20(Introduction%20to%20Soft%20Computing)/Introduction%20to%20Soft%20Computing(Hands-on)%20V-2.ipynb\" target=\"_blank\">Click Here 🔗</a>\n",
    "\n",
    "**Before you Start**\n",
    "- Click on **File**\n",
    "- First **Save a copy in Drive**\n",
    "- Click on **Connect**\n",
    "- Then start **Hands-on**\n",
    "\n",
    "---\n",
    "\n",
    "## **1. Introduction to Soft Computing**\n",
    "### **What is Soft Computing?**\n",
    "Soft computing is an approach to computing that allows for approximate solutions to complex problems. It deals with uncertainty, imprecision, and approximation, which makes it suitable for real-world scenarios where exact solutions are hard to compute.\n",
    "\n",
    "### **Soft Computing vs. Hard Computing**\n",
    "| Feature            | Hard Computing                  | Soft Computing                 |\n",
    "|-------------------|--------------------------------|--------------------------------|\n",
    "| Precision        | Requires exact solutions       | Handles approximate solutions  |\n",
    "| Logic            | Binary (0 or 1)                | Fuzzy logic (partial truths)  |\n",
    "| Learning Ability | Fixed rules and algorithms     | Learns from data              |\n",
    "| Robustness       | Less adaptable to noise        | Tolerant to noise and errors  |\n",
    "\n",
    "### **Types of Soft Computing Techniques**\n",
    "1. **Artificial Intelligence (AI):** Enables machines to mimic human intelligence.\n",
    "2. **Neural Networks (ANNs):** Mimic human brain structure to solve complex tasks.\n",
    "3. **Fuzzy Logic (FL):** Deals with reasoning that is approximate rather than fixed.\n",
    "4. **Genetic Algorithms (GAs):** Evolution-based optimization techniques.\n",
    "5. **Evolutionary Computing:** Uses biological evolution principles for problem-solving.\n",
    "\n",
    "---\n",
    "## **2. Applications of Soft Computing**\n",
    "Soft computing techniques are widely used in various domains:\n",
    "- **Medical Diagnosis:** AI models assist in disease detection (e.g., cancer detection).\n",
    "- **Image & Speech Recognition:** Neural networks power modern AI applications like face recognition and voice assistants.\n",
    "- **Robotics:** Fuzzy logic is used in real-world robotic control.\n",
    "- **Financial Forecasting:** Machine learning predicts stock market trends.\n",
    "- **Control Systems:** Used in air conditioners, washing machines, and industrial automation.\n",
    "\n",
    "---"
   ]
  },
  {
   "cell_type": "markdown",
   "metadata": {},
   "source": [
    "## **3. Hands-on Exercise: Rule-Based System vs. Soft Computing**\n",
    "### **Objective:** Compare a rule-based system with a soft computing approach.\n",
    "\n",
    "1.  **A Hard Computing Example:** A simple rule-based decision system.\n",
    "2.  **A Soft Computing Example:** A machine learning-based decision-making model.\n",
    "\n",
    "### **A Rule-Based Approach (Hard Computing)**"
   ]
  },
  {
   "cell_type": "code",
   "execution_count": 1,
   "metadata": {},
   "outputs": [],
   "source": [
    "# Rule-based (hard computing) approach to classify temperature\n",
    "\n",
    "def classify_temperature(temp):\n",
    "    if temp < 15:\n",
    "        return \"Cold\"\n",
    "    elif 15 <= temp <= 25:\n",
    "        return \"Moderate\"\n",
    "    else:\n",
    "        return \"Hot\""
   ]
  },
  {
   "cell_type": "code",
   "execution_count": 2,
   "metadata": {},
   "outputs": [
    {
     "name": "stdout",
     "output_type": "stream",
     "text": [
      "Cold\n",
      "Moderate\n",
      "Hot\n"
     ]
    }
   ],
   "source": [
    "print(classify_temperature(10))  # Output: Cold\n",
    "print(classify_temperature(20))  # Output: Moderate\n",
    "print(classify_temperature(30))  # Output: Hot"
   ]
  },
  {
   "cell_type": "markdown",
   "metadata": {},
   "source": [
    "**Drawback:** This system cannot learn from data; it only follows pre-defined rules."
   ]
  },
  {
   "cell_type": "markdown",
   "metadata": {},
   "source": [
    "---\n",
    "---"
   ]
  },
  {
   "cell_type": "markdown",
   "metadata": {},
   "source": [
    "### **A Soft Computing Approach Using Fuzzy Logic**"
   ]
  },
  {
   "cell_type": "code",
   "execution_count": 3,
   "metadata": {},
   "outputs": [
    {
     "name": "stdout",
     "output_type": "stream",
     "text": [
      "Defaulting to user installation because normal site-packages is not writeableNote: you may need to restart the kernel to use updated packages.\n",
      "\n",
      "Requirement already satisfied: numpy in c:\\python312\\lib\\site-packages (2.0.2)\n"
     ]
    },
    {
     "name": "stderr",
     "output_type": "stream",
     "text": [
      "DEPRECATION: Loading egg at c:\\python312\\lib\\site-packages\\vboxapi-1.0-py3.12.egg is deprecated. pip 25.1 will enforce this behaviour change. A possible replacement is to use pip for package installation. Discussion can be found at https://github.com/pypa/pip/issues/12330\n"
     ]
    },
    {
     "name": "stdout",
     "output_type": "stream",
     "text": [
      "Defaulting to user installation because normal site-packages is not writeable\n",
      "Requirement already satisfied: scikit-fuzzy in c:\\users\\harsh\\appdata\\roaming\\python\\python312\\site-packages (0.5.0)\n",
      "Note: you may need to restart the kernel to use updated packages.\n"
     ]
    },
    {
     "name": "stderr",
     "output_type": "stream",
     "text": [
      "DEPRECATION: Loading egg at c:\\python312\\lib\\site-packages\\vboxapi-1.0-py3.12.egg is deprecated. pip 25.1 will enforce this behaviour change. A possible replacement is to use pip for package installation. Discussion can be found at https://github.com/pypa/pip/issues/12330\n"
     ]
    }
   ],
   "source": [
    "# install libraries\n",
    "%pip install numpy \n",
    "%pip install scikit-fuzzy"
   ]
  },
  {
   "cell_type": "code",
   "execution_count": 4,
   "metadata": {},
   "outputs": [
    {
     "name": "stdout",
     "output_type": "stream",
     "text": [
      "54.79521674140495\n"
     ]
    }
   ],
   "source": [
    "# Import libraries\n",
    "import numpy as np\n",
    "import skfuzzy as fuzz\n",
    "import skfuzzy.control as ctrl\n",
    "\n",
    "# Define fuzzy variables\n",
    "temp = ctrl.Antecedent(np.arange(0, 41, 1), 'temperature')\n",
    "feeling = ctrl.Consequent(np.arange(0, 101, 1), 'feeling')\n",
    "\n",
    "# Define membership functions\n",
    "temp['cold'] = fuzz.trimf(temp.universe, [0, 0, 20])\n",
    "temp['moderate'] = fuzz.trimf(temp.universe, [10, 20, 30])\n",
    "temp['hot'] = fuzz.trimf(temp.universe, [20, 40, 40])\n",
    "\n",
    "feeling['bad'] = fuzz.trimf(feeling.universe, [0, 0, 50])\n",
    "feeling['neutral'] = fuzz.trimf(feeling.universe, [30, 50, 70])\n",
    "feeling['good'] = fuzz.trimf(feeling.universe, [50, 100, 100])\n",
    "\n",
    "# Define rules\n",
    "rule1 = ctrl.Rule(temp['cold'], feeling['bad'])\n",
    "rule2 = ctrl.Rule(temp['moderate'], feeling['neutral'])\n",
    "rule3 = ctrl.Rule(temp['hot'], feeling['good'])\n",
    "\n",
    "# Control system\n",
    "feeling_ctrl = ctrl.ControlSystem([rule1, rule2, rule3])\n",
    "feeling_sim = ctrl.ControlSystemSimulation(feeling_ctrl)\n",
    "\n",
    "# Test input\n",
    "feeling_sim.input['temperature'] = 22\n",
    "feeling_sim.compute()\n",
    "print(feeling_sim.output['feeling'])  # Output: Neutral feeling level"
   ]
  },
  {
   "cell_type": "markdown",
   "metadata": {},
   "source": [
    "### **Analysis:**\n",
    "- The rule-based approach (hard computing) applies strict conditions.\n",
    "- The fuzzy logic approach (soft computing) provides more flexibility and realistic output.\n",
    "\n",
    "---\n",
    "## **4. Conclusion & Discussion Questions**\n",
    "1. What are some real-life problems where soft computing can outperform traditional algorithms?\n",
    "2. How do neural networks differ from traditional programming approaches?\n",
    "3. Can soft computing techniques be combined for better results? (Hybrid Soft Computing)\n",
    "\n",
    "---"
   ]
  },
  {
   "cell_type": "markdown",
   "metadata": {},
   "source": [
    "## Author\n",
    "\n",
    "**Harshit Soni**  \n",
    "GitHub: [Harshit-Soni78](https://github.com/Harshit-Soni78)\n",
    "\n",
    "---\n",
    "Made with ❤️ by Harshit Soni\n"
   ]
  }
 ],
 "metadata": {
  "kernelspec": {
   "display_name": "Python 3",
   "language": "python",
   "name": "python3"
  },
  "language_info": {
   "codemirror_mode": {
    "name": "ipython",
    "version": 3
   },
   "file_extension": ".py",
   "mimetype": "text/x-python",
   "name": "python",
   "nbconvert_exporter": "python",
   "pygments_lexer": "ipython3",
   "version": "3.12.6"
  }
 },
 "nbformat": 4,
 "nbformat_minor": 2
}
