{
 "cells": [
  {
   "cell_type": "markdown",
   "metadata": {},
   "source": [
    "## **Hands-on Practical: Soft Computing vs. Hard Computing**\n",
    "\n",
    "We'll implement:\n",
    "\n",
    "1.  **A Hard Computing Example:** A simple rule-based decision system.\n",
    "2.  **A Soft Computing Example:** A machine learning-based decision-making model.\n",
    "\n",
    "### **Example 1: Hard Computing - Rule-Based System**\n",
    "\n",
    "A basic Python program that makes a decision based on fixed rules."
   ]
  },
  {
   "cell_type": "code",
   "execution_count": null,
   "metadata": {},
   "outputs": [],
   "source": [
    "def classify_temperature(temp):\n",
    "    if temp < 15:\n",
    "        return \"Cold\"\n",
    "    elif 15 <= temp < 30:\n",
    "        return \"Moderate\"\n",
    "    else:\n",
    "        return \"Hot\""
   ]
  },
  {
   "cell_type": "code",
   "execution_count": null,
   "metadata": {},
   "outputs": [],
   "source": [
    "# Example Usage\n",
    "temp = 25\n",
    "print(f\"The temperature is {temp}°C, classified as: {classify_temperature(temp)}\")"
   ]
  },
  {
   "cell_type": "markdown",
   "metadata": {},
   "source": [
    "**Drawback:** This system cannot learn from data; it only follows pre-defined rules."
   ]
  },
  {
   "cell_type": "markdown",
   "metadata": {},
   "source": [
    "---"
   ]
  },
  {
   "cell_type": "markdown",
   "metadata": {},
   "source": [
    "### **Example 2: Soft Computing - Machine Learning Approach**\n",
    "Using a simple K-Nearest Neighbors (KNN) classifier to classify temperature into categories."
   ]
  },
  {
   "cell_type": "code",
   "execution_count": null,
   "metadata": {},
   "outputs": [],
   "source": [
    "# Download the libraries\n",
    "%pip install numpy\n",
    "%pip install sckit-learn"
   ]
  },
  {
   "cell_type": "code",
   "execution_count": null,
   "metadata": {},
   "outputs": [],
   "source": [
    "# Importing the libraries\n",
    "import numpy as np\n",
    "from sklearn.neighbors import KNeighborsClassifier"
   ]
  },
  {
   "cell_type": "code",
   "execution_count": null,
   "metadata": {},
   "outputs": [],
   "source": [
    "# Example dataset (Temperature in °C, Label: 0=Cold, 1=Moderate, 2=Hot)\n",
    "X = np.array([[5], [10], [20], [25], [30], [35]])\n",
    "y = np.array([0, 0, 1, 1, 2, 2])"
   ]
  },
  {
   "cell_type": "code",
   "execution_count": null,
   "metadata": {},
   "outputs": [],
   "source": [
    "# Train KNN model\n",
    "knn = KNeighborsClassifier(n_neighbors=2)\n",
    "knn.fit(X, y)"
   ]
  },
  {
   "cell_type": "code",
   "execution_count": null,
   "metadata": {},
   "outputs": [],
   "source": [
    "# Predict new temperature classification\n",
    "new_temp = np.array([[22]])  # We can Change this value to test\n",
    "predicted_label = knn.predict(new_temp)"
   ]
  },
  {
   "cell_type": "code",
   "execution_count": null,
   "metadata": {},
   "outputs": [],
   "source": [
    "labels = {0: \"Cold\", 1: \"Moderate\", 2: \"Hot\"}\n",
    "print(f\"The temperature is {new_temp[0][0]}°C, classified as: {labels[predicted_label[0]]}\")"
   ]
  },
  {
   "cell_type": "markdown",
   "metadata": {},
   "source": [
    "✅ **Advantage:** This model learns from data and adapts to new inputs.\n",
    "\n",
    "___\n"
   ]
  },
  {
   "cell_type": "markdown",
   "metadata": {},
   "source": [
    "## **3️⃣ Hands-on Exercise**\n",
    "\n",
    "Try implementing:\n",
    "\n",
    "1.  **A rule-based spam classifier** (hard computing) using `if-else` conditions.\n",
    "2.  **A soft computing-based spam classifier** using **Naïve Bayes** in `sklearn`.\n",
    "\n",
    "---"
   ]
  }
 ],
 "metadata": {
  "kernelspec": {
   "display_name": "Python 3",
   "language": "python",
   "name": "python3"
  },
  "language_info": {
   "name": "python",
   "version": "3.12.6"
  }
 },
 "nbformat": 4,
 "nbformat_minor": 2
}
